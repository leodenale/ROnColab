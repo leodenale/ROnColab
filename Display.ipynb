{
  "nbformat": 4,
  "nbformat_minor": 0,
  "metadata": {
    "kernelspec": {
      "display_name": "R",
      "language": "R",
      "name": "ir"
    },
    "language_info": {
      "codemirror_mode": "r",
      "file_extension": ".r",
      "mimetype": "text/x-r-source",
      "name": "R",
      "pygments_lexer": "r",
      "version": "3.3.1"
    },
    "colab": {
      "name": "Display.ipynb",
      "version": "0.3.2",
      "provenance": [],
      "include_colab_link": true
    }
  },
  "cells": [
    {
      "cell_type": "markdown",
      "metadata": {
        "id": "view-in-github",
        "colab_type": "text"
      },
      "source": [
        "<a href=\"https://colab.research.google.com/github/leodenale/ROnColab/blob/master/Display.ipynb\" target=\"_parent\"><img src=\"https://colab.research.google.com/assets/colab-badge.svg\" alt=\"Open In Colab\"/></a>"
      ]
    },
    {
      "cell_type": "code",
      "metadata": {
        "id": "VKVkIWnXioRX",
        "colab_type": "code",
        "colab": {}
      },
      "source": [
        "library(IRdisplay)"
      ],
      "execution_count": 0,
      "outputs": []
    },
    {
      "cell_type": "markdown",
      "metadata": {
        "id": "kmw3wXuhioRd",
        "colab_type": "text"
      },
      "source": [
        "The IRkernel already displays things automatically, but the [`IRdisplay` package](http://irkernel.github.io/docs/IRdisplay/0.4.4/) allows to programmatically access this machinery.\n",
        "\n",
        "You can display all standard formats of an object via [`display`](http://irkernel.github.io/docs/IRdisplay/0.4.4/display.html). This uses [`repr_*`](http://irkernel.github.io/docs/repr/0.8/repr-generics.html) and the [`jupyter.display_mimetypes` option](http://irkernel.github.io/docs/IRdisplay/0.4.4/IRdisplay-options.html):"
      ]
    },
    {
      "cell_type": "code",
      "metadata": {
        "id": "zSdjyN4hioRe",
        "colab_type": "code",
        "colab": {
          "base_uri": "https://localhost:8080/",
          "height": 317
        },
        "outputId": "f8c78862-61e5-46e0-b6f7-559a0ff58db5"
      },
      "source": [
        "options('jupyter.display_mimetypes')"
      ],
      "execution_count": 3,
      "outputs": [
        {
          "output_type": "display_data",
          "data": {
            "text/plain": [
              "$jupyter.display_mimetypes\n",
              " [1] \"text/plain\"                       \"text/html\"                       \n",
              " [3] \"text/markdown\"                    \"text/latex\"                      \n",
              " [5] \"application/json\"                 \"application/javascript\"          \n",
              " [7] \"application/geo+json\"             \"application/vdom.v1+json\"        \n",
              " [9] \"application/vnd.plotly.v1+json\"   \"application/vnd.vegalite.v2+json\"\n",
              "[11] \"application/vnd.vega.v4+json\"     \"application/pdf\"                 \n",
              "[13] \"image/png\"                        \"image/jpeg\"                      \n",
              "[15] \"image/svg+xml\"                   \n"
            ],
            "text/latex": "\\textbf{\\$jupyter.display\\_mimetypes} = \\begin{enumerate*}\n\\item 'text/plain'\n\\item 'text/html'\n\\item 'text/markdown'\n\\item 'text/latex'\n\\item 'application/json'\n\\item 'application/javascript'\n\\item 'application/geo+json'\n\\item 'application/vdom.v1+json'\n\\item 'application/vnd.plotly.v1+json'\n\\item 'application/vnd.vegalite.v2+json'\n\\item 'application/vnd.vega.v4+json'\n\\item 'application/pdf'\n\\item 'image/png'\n\\item 'image/jpeg'\n\\item 'image/svg+xml'\n\\end{enumerate*}\n",
            "text/markdown": "**$jupyter.display_mimetypes** = 1. 'text/plain'\n2. 'text/html'\n3. 'text/markdown'\n4. 'text/latex'\n5. 'application/json'\n6. 'application/javascript'\n7. 'application/geo+json'\n8. 'application/vdom.v1+json'\n9. 'application/vnd.plotly.v1+json'\n10. 'application/vnd.vegalite.v2+json'\n11. 'application/vnd.vega.v4+json'\n12. 'application/pdf'\n13. 'image/png'\n14. 'image/jpeg'\n15. 'image/svg+xml'\n\n\n",
            "text/html": [
              "<strong>$jupyter.display_mimetypes</strong> = <ol class=list-inline>\n",
              "\t<li>'text/plain'</li>\n",
              "\t<li>'text/html'</li>\n",
              "\t<li>'text/markdown'</li>\n",
              "\t<li>'text/latex'</li>\n",
              "\t<li>'application/json'</li>\n",
              "\t<li>'application/javascript'</li>\n",
              "\t<li>'application/geo+json'</li>\n",
              "\t<li>'application/vdom.v1+json'</li>\n",
              "\t<li>'application/vnd.plotly.v1+json'</li>\n",
              "\t<li>'application/vnd.vegalite.v2+json'</li>\n",
              "\t<li>'application/vnd.vega.v4+json'</li>\n",
              "\t<li>'application/pdf'</li>\n",
              "\t<li>'image/png'</li>\n",
              "\t<li>'image/jpeg'</li>\n",
              "\t<li>'image/svg+xml'</li>\n",
              "</ol>\n"
            ]
          },
          "metadata": {
            "tags": []
          }
        }
      ]
    },
    {
      "cell_type": "code",
      "metadata": {
        "scrolled": true,
        "id": "VoyiECfwioRk",
        "colab_type": "code",
        "colab": {
          "base_uri": "https://localhost:8080/",
          "height": 754
        },
        "outputId": "bec4b78e-e2ea-4fbc-c093-9a147d76554c"
      },
      "source": [
        "display(help(display))  #without display(), help appears in a pager"
      ],
      "execution_count": 4,
      "outputs": [
        {
          "output_type": "display_data",
          "data": {
            "text/latex": "\\inputencoding{utf8}\n\\HeaderA{display}{Create and use multiple available reprs}{display}\n\\aliasA{prepare\\_mimebundle}{display}{prepare.Rul.mimebundle}\n%\n\\begin{Description}\\relax\nBoth functions create a mimebundle for multiple reprs.\n\\code{display} proceeds to publish it using \\code{\\LinkA{publish\\_mimebundle}{publish.Rul.mimebundle}}.\n\\code{prepare\\_mimebundle} returns it (see \\emph{Value} for details)\n\\end{Description}\n%\n\\begin{Usage}\n\\begin{verbatim}\ndisplay(obj, ..., mimetypes = getOption(\"jupyter.display_mimetypes\"),\n  error_handler = stop)\n\nprepare_mimebundle(obj,\n  mimetypes = getOption(\"jupyter.display_mimetypes\"), metadata = NULL,\n  error_handler = stop)\n\\end{verbatim}\n\\end{Usage}\n%\n\\begin{Arguments}\n\\begin{ldescription}\n\\item[\\code{obj}] The object to create representations for\n\n\\item[\\code{mimetypes}] Mimetypes to create reprs for. The defaults are defined by the option \\code{jupyter.display\\_mimetypes}. (see: \\LinkA{IRdisplay-options}{IRdisplay.Rdash.options})\n\n\\item[\\code{error\\_handler}] Function used when errors in individual reprs occur\n\n\\item[\\code{metadata, ...}] Metadata to attach to the result (can be expanded by additional metadata)\n\\end{ldescription}\n\\end{Arguments}\n%\n\\begin{Value}\n\\code{prepare\\_mimebundle} returns a list with items corresponding to the parameters of \\code{\\LinkA{publish\\_mimebundle}{publish.Rul.mimebundle}} (\\code{data} and \\code{metadata})\n\\end{Value}\n%\n\\begin{SeeAlso}\\relax\n\\code{\\LinkA{publish\\_mimebundle}{publish.Rul.mimebundle}}\n\\end{SeeAlso}\n%\n\\begin{Examples}\n\\begin{ExampleCode}\nbundle <- prepare_mimebundle(diag(3))\n\n## Not run: ## (Run inside of an IRkernel)\ndisplay(help(display))\n## End(Not run)\n\n\\end{ExampleCode}\n\\end{Examples}",
            "text/html": [
              "\n",
              "<table width=\"100%\" summary=\"page for display {IRdisplay}\"><tr><td>display {IRdisplay}</td><td style=\"text-align: right;\">R Documentation</td></tr></table>\n",
              "\n",
              "<h2>Create and use multiple available reprs</h2>\n",
              "\n",
              "<h3>Description</h3>\n",
              "\n",
              "<p>Both functions create a mimebundle for multiple reprs.\n",
              "<code>display</code> proceeds to publish it using <code>publish_mimebundle</code>.\n",
              "<code>prepare_mimebundle</code> returns it (see <em>Value</em> for details)\n",
              "</p>\n",
              "\n",
              "\n",
              "<h3>Usage</h3>\n",
              "\n",
              "<pre>\n",
              "display(obj, ..., mimetypes = getOption(\"jupyter.display_mimetypes\"),\n",
              "  error_handler = stop)\n",
              "\n",
              "prepare_mimebundle(obj,\n",
              "  mimetypes = getOption(\"jupyter.display_mimetypes\"), metadata = NULL,\n",
              "  error_handler = stop)\n",
              "</pre>\n",
              "\n",
              "\n",
              "<h3>Arguments</h3>\n",
              "\n",
              "<table summary=\"R argblock\">\n",
              "<tr valign=\"top\"><td><code>obj</code></td>\n",
              "<td>\n",
              "<p>The object to create representations for</p>\n",
              "</td></tr>\n",
              "<tr valign=\"top\"><td><code>mimetypes</code></td>\n",
              "<td>\n",
              "<p>Mimetypes to create reprs for. The defaults are defined by the option <code>jupyter.display_mimetypes</code>. (see: IRdisplay-options)</p>\n",
              "</td></tr>\n",
              "<tr valign=\"top\"><td><code>error_handler</code></td>\n",
              "<td>\n",
              "<p>Function used when errors in individual reprs occur</p>\n",
              "</td></tr>\n",
              "<tr valign=\"top\"><td><code>metadata, ...</code></td>\n",
              "<td>\n",
              "<p>Metadata to attach to the result (can be expanded by additional metadata)</p>\n",
              "</td></tr>\n",
              "</table>\n",
              "\n",
              "\n",
              "<h3>Value</h3>\n",
              "\n",
              "<p><code>prepare_mimebundle</code> returns a list with items corresponding to the parameters of <code>publish_mimebundle</code> (<code>data</code> and <code>metadata</code>)\n",
              "</p>\n",
              "\n",
              "\n",
              "<h3>See Also</h3>\n",
              "\n",
              "<p><code>publish_mimebundle</code>\n",
              "</p>\n",
              "\n",
              "\n",
              "<h3>Examples</h3>\n",
              "\n",
              "<pre>\n",
              "bundle &lt;- prepare_mimebundle(diag(3))\n",
              "\n",
              "## Not run: ## (Run inside of an IRkernel)\n",
              "display(help(display))\n",
              "## End(Not run)\n",
              "\n",
              "</pre>\n",
              "\n",
              "<hr /><div style=\"text-align: center;\">[Package <em>IRdisplay</em> version 0.7.0 ]</div>"
            ],
            "text/plain": [
              "display               package:IRdisplay                R Documentation\n",
              "\n",
              "_\bC_\br_\be_\ba_\bt_\be _\ba_\bn_\bd _\bu_\bs_\be _\bm_\bu_\bl_\bt_\bi_\bp_\bl_\be _\ba_\bv_\ba_\bi_\bl_\ba_\bb_\bl_\be _\br_\be_\bp_\br_\bs\n",
              "\n",
              "_\bD_\be_\bs_\bc_\br_\bi_\bp_\bt_\bi_\bo_\bn:\n",
              "\n",
              "     Both functions create a mimebundle for multiple reprs. ‘display’\n",
              "     proceeds to publish it using ‘publish_mimebundle’.\n",
              "     ‘prepare_mimebundle’ returns it (see _Value_ for details)\n",
              "\n",
              "_\bU_\bs_\ba_\bg_\be:\n",
              "\n",
              "     display(obj, ..., mimetypes = getOption(\"jupyter.display_mimetypes\"),\n",
              "       error_handler = stop)\n",
              "     \n",
              "     prepare_mimebundle(obj,\n",
              "       mimetypes = getOption(\"jupyter.display_mimetypes\"), metadata = NULL,\n",
              "       error_handler = stop)\n",
              "     \n",
              "_\bA_\br_\bg_\bu_\bm_\be_\bn_\bt_\bs:\n",
              "\n",
              "     obj: The object to create representations for\n",
              "\n",
              "mimetypes: Mimetypes to create reprs for. The defaults are defined by\n",
              "          the option ‘jupyter.display_mimetypes’. (see:\n",
              "          IRdisplay-options)\n",
              "\n",
              "error_handler: Function used when errors in individual reprs occur\n",
              "\n",
              "metadata, ...: Metadata to attach to the result (can be expanded by\n",
              "          additional metadata)\n",
              "\n",
              "_\bV_\ba_\bl_\bu_\be:\n",
              "\n",
              "     ‘prepare_mimebundle’ returns a list with items corresponding to\n",
              "     the parameters of ‘publish_mimebundle’ (‘data’ and ‘metadata’)\n",
              "\n",
              "_\bS_\be_\be _\bA_\bl_\bs_\bo:\n",
              "\n",
              "     ‘publish_mimebundle’\n",
              "\n",
              "_\bE_\bx_\ba_\bm_\bp_\bl_\be_\bs:\n",
              "\n",
              "     bundle <- prepare_mimebundle(diag(3))\n",
              "     \n",
              "     ## Not run:\n",
              "     ## (Run inside of an IRkernel)\n",
              "     display(help(display))\n",
              "     ## End(Not run)\n",
              "     "
            ]
          },
          "metadata": {
            "tags": []
          }
        }
      ]
    },
    {
      "cell_type": "markdown",
      "metadata": {
        "id": "bzVnEHHKioRo",
        "colab_type": "text"
      },
      "source": [
        "To display specific formats, you can use the [`display_<image>`](http://irkernel.github.io/docs/IRdisplay/0.4.4/display_-less-than-image-greater-than.html) and [`display_text`](http://irkernel.github.io/docs/IRdisplay/0.4.4/display_-less-than-text-greater-than.html) functions (their only difference is that images support convenience `width` and `height` arguments):"
      ]
    },
    {
      "cell_type": "code",
      "metadata": {
        "id": "k31N_T9DioRp",
        "colab_type": "code",
        "colab": {
          "base_uri": "https://localhost:8080/",
          "height": 74
        },
        "outputId": "d0bab829-0a5b-4a40-dd58-bd4fb3f39605"
      },
      "source": [
        "display_html('<h1 style=\"background-color:#fe57a1\">HTML output</h1>')"
      ],
      "execution_count": 5,
      "outputs": [
        {
          "output_type": "display_data",
          "data": {
            "text/html": [
              "<h1 style=\"background-color:#fe57a1\">HTML output</h1>"
            ]
          },
          "metadata": {
            "tags": []
          }
        }
      ]
    },
    {
      "cell_type": "markdown",
      "metadata": {
        "id": "XqEuka-2ioRs",
        "colab_type": "text"
      },
      "source": [
        "Plots are also displayed automatically by the IRkernel, but if you want to display e.&hairsp;g. a PNG from another source, this is how to do it:"
      ]
    },
    {
      "cell_type": "code",
      "metadata": {
        "id": "s_ZZNl8oioRt",
        "colab_type": "code",
        "colab": {
          "base_uri": "https://localhost:8080/",
          "height": 34
        },
        "outputId": "1cce0253-b3c0-42ff-f153-af6fd595a392"
      },
      "source": [
        "raw_png_data <- base64enc::base64decode('R0lGODdhAQABAIAAAPxqbAAAACwAAAAAAQABAAACAkQBADsK')\n",
        "display_png(raw_png_data, width = 64, height = 64)\n",
        "#display_png(file = 'a-file.png')"
      ],
      "execution_count": 6,
      "outputs": [
        {
          "output_type": "display_data",
          "data": {
            "image/png": "[encoded data removed]"
          },
          "metadata": {
            "tags": [],
            "width": 64,
            "height": 64
          }
        }
      ]
    },
    {
      "cell_type": "markdown",
      "metadata": {
        "id": "l_tZgRB2ioRw",
        "colab_type": "text"
      },
      "source": [
        "Displaying multiple formats (implicitly or explicitly) allows to choose the frontend to choose the best representation. E.g. when converting to PDF, you’ll want to make sure that `jupyter.plot_mimetypes` contains `image/svg+xml` and/or `application/pdf`."
      ]
    },
    {
      "cell_type": "code",
      "metadata": {
        "id": "uqhhYKl2ioRx",
        "colab_type": "code",
        "colab": {
          "base_uri": "https://localhost:8080/",
          "height": 96
        },
        "outputId": "f01067be-a82a-4fe5-c4ea-8fc4036ce830"
      },
      "source": [
        "options('jupyter.plot_mimetypes')"
      ],
      "execution_count": 7,
      "outputs": [
        {
          "output_type": "display_data",
          "data": {
            "text/plain": [
              "$jupyter.plot_mimetypes\n",
              "[1] \"text/plain\" \"image/png\" \n"
            ],
            "text/latex": "\\textbf{\\$jupyter.plot\\_mimetypes} = \\begin{enumerate*}\n\\item 'text/plain'\n\\item 'image/png'\n\\end{enumerate*}\n",
            "text/markdown": "**$jupyter.plot_mimetypes** = 1. 'text/plain'\n2. 'image/png'\n\n\n",
            "text/html": [
              "<strong>$jupyter.plot_mimetypes</strong> = <ol class=list-inline>\n",
              "\t<li>'text/plain'</li>\n",
              "\t<li>'image/png'</li>\n",
              "</ol>\n"
            ]
          },
          "metadata": {
            "tags": []
          }
        }
      ]
    },
    {
      "cell_type": "code",
      "metadata": {
        "id": "EqoWSDnZioR1",
        "colab_type": "code",
        "colab": {
          "base_uri": "https://localhost:8080/",
          "height": 34
        },
        "outputId": "a38bcece-8134-44fc-f45a-00ae67368e4b"
      },
      "source": [
        "publish_mimebundle(list(\n",
        "    'image/svg+xml' = '<svg width=\"10\" height=\"10\"><circle r=\"5\" cx=\"5\" cy=\"5\"/></svg>',\n",
        "    'text/plain'    = 'A circle'))"
      ],
      "execution_count": 8,
      "outputs": [
        {
          "output_type": "display_data",
          "data": {
            "text/plain": [
              "A circle"
            ],
            "image/svg+xml": "<svg width=\"10\" height=\"10\"><circle r=\"5\" cx=\"5\" cy=\"5\"/></svg>"
          },
          "metadata": {
            "tags": []
          }
        }
      ]
    }
  ]
}